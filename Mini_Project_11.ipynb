{
  "nbformat": 4,
  "nbformat_minor": 0,
  "metadata": {
    "colab": {
      "provenance": [],
      "authorship_tag": "ABX9TyPYlm5bWAO7YenghvL5FhNb",
      "include_colab_link": true
    },
    "kernelspec": {
      "name": "python3",
      "display_name": "Python 3"
    },
    "language_info": {
      "name": "python"
    }
  },
  "cells": [
    {
      "cell_type": "markdown",
      "metadata": {
        "id": "view-in-github",
        "colab_type": "text"
      },
      "source": [
        "<a href=\"https://colab.research.google.com/github/rohankhanna1928/TIET-SS-Mini-Project-11-Email_Scraper/blob/main/Mini_Project_11.ipynb\" target=\"_parent\"><img src=\"https://colab.research.google.com/assets/colab-badge.svg\" alt=\"Open In Colab\"/></a>"
      ]
    },
    {
      "cell_type": "code",
      "execution_count": null,
      "metadata": {
        "id": "LMG2cO8X71B3"
      },
      "outputs": [],
      "source": [
        "!pip install requests beautifulsoup4"
      ]
    },
    {
      "cell_type": "code",
      "source": [
        "import requests\n",
        "from bs4 import BeautifulSoup\n",
        "import re\n",
        "import csv\n",
        "\n",
        "def extract_emails_from_url(url):\n",
        "    try:\n",
        "        response = requests.get(url)\n",
        "        response.raise_for_status()  # Check for HTTP errors\n",
        "        soup = BeautifulSoup(response.text, 'html.parser')\n",
        "\n",
        "        # Get all text from the page\n",
        "        text = soup.get_text()\n",
        "\n",
        "        # Regular expression to find email addresses\n",
        "        email_pattern = r'[a-zA-Z0-9_.+-]+@[a-zA-Z0-9-]+\\.[a-zA-Z0-9-.]+'\n",
        "        emails = re.findall(email_pattern, text)\n",
        "\n",
        "        # Remove duplicates\n",
        "        unique_emails = list(set(emails))\n",
        "\n",
        "        return unique_emails\n",
        "    except Exception as e:\n",
        "        print(f\"Error: {e}\")\n",
        "        return []\n",
        "\n",
        "def save_emails_to_csv(emails, filename=\"emails.csv\"):\n",
        "    try:\n",
        "        with open(filename, mode='w', newline='') as file:\n",
        "            writer = csv.writer(file)\n",
        "            writer.writerow(['Email'])\n",
        "            for email in emails:\n",
        "                writer.writerow([email])\n",
        "        print(f\"✅ Emails saved to {filename}\")\n",
        "    except Exception as e:\n",
        "        print(f\"Failed to save CSV: {e}\")\n",
        "\n",
        "if __name__ == \"__main__\":\n",
        "    url = input(\"Enter the website URL: \")\n",
        "    emails = extract_emails_from_url(url)\n",
        "    if emails:\n",
        "        print(f\"✅ Found {len(emails)} email(s): {emails}\")\n",
        "        save_emails_to_csv(emails)\n",
        "    else:\n",
        "        print(\"❌ No emails found or failed to fetch page.\")"
      ],
      "metadata": {
        "id": "vOAsFuMY756v"
      },
      "execution_count": null,
      "outputs": []
    }
  ]
}